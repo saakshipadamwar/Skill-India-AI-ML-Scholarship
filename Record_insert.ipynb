{
 "cells": [
  {
   "cell_type": "code",
   "execution_count": 1,
   "id": "32590e71",
   "metadata": {},
   "outputs": [],
   "source": [
    "record = {1001 : {\"Product Name\" : \"Parle G\"  , \"Expiry date\" : \"10th Oct 2021\" , \"Price\" : \"10\" , \"Quantity\" : \"50\" , \"Amount\" : \"500\"} ,\n",
    "          1002 : {\"Product Name\" : \"Marie\" ,    \"Expiry date\" : \"18th Oct 2021\" , \"Price\" : \"20\" , \"Quantity\" : \"35\" , \"Amount\" : \"700\"} ,\n",
    "          1003 : {\"Product Name\" : \"Good Day\" , \"Expiry date\" : \"30th Sept 2021\", \"Price\" : \"15\" , \"Quantity\" : \"55\" , \"Amount\" : \"825\"} ,\n",
    "          1004 : {\"Product Name\" : \"20 - 20\"  , \"Expiry date\" : \"15th Oct 2021\" , \"Price\" : \"5\"  , \"Quantity\" : \"100\" , \"Amount\" : \"500\"} ,\n",
    "          1005 : {\"Product Name\" : \"Rice 1kg\" , \"Expiry date\" : \"23rd Feb 2022\" , \"Price\" : \"70\", \"Quantity\" : \"72\" , \"Amount\" : \"5040\"} ,\n",
    "          1006 : {\"Product Name\" : \"Wheat 1kg\", \"Expiry date\" : \"20th Dec 2021\" , \"Price\" : \"40\" , \"Quantity\" : \"70\" , \"Amount\" : \"2800\"} ,\n",
    "          1007 : {\"Product Name\" : \"Jowar 1kg\", \"Expiry date\" : \"12th Mar 2022\" , \"Price\" : \"50\" , \"Quantity\" : \"50\" , \"Amount\" : \"2500\"} ,\n",
    "          1008 : {\"Product Name\" : \"Bajra 1kg\", \"Expiry date\" : \"10th Feb 2021\" , \"Price\" : \"40\" , \"Quantity\" : \"60\" , \"Amount\" : \"2400\"} ,\n",
    "          1009 : {\"Product Name\" : \"Rajma 1kg\", \"Expiry date\" : \"21st Feb 2021\" , \"Price\" : \"90\" , \"Quantity\" : \"23\" , \"Amount\" : \"2070\"} ,\n",
    "          1010 : {\"Product Name\" : \"Colgate\" ,  \"Expiry date\" : \"10th Oct 2021\" , \"Price\" : \"10\" , \"Quantity\" : \"55\" , \"Amount\" : \"550\"} ,\n",
    "          1011 : {\"Product Name\" : \"Vicco\" ,    \"Expiry date\" : \"12th Oct 2021\" , \"Price\" : \"10\" , \"Quantity\" : \"50\" , \"Amount\" : \"500\"} , \n",
    "          1012 : {\"Product Name\" : \"Panteen\" ,  \"Expiry date\" : \"-------------\" , \"Price\" : \"110\" , \"Quantity\" : \"66\" , \"Amount\" : \"7260\"} ,\n",
    "          1013 : {\"Product Name\" : \"Clinic-plus\",\"Expiry date\" : \"------------\" , \"Price\" : \"50\" , \"Quantity\" : \"52\" , \"Amount\" : \"2600\"} ,\n",
    "          1014 : {\"Product Name\" : \"Milk 1L\" ,   \"Expiry date\" : \"10th Sept 2021\" , \"Price\" : \"60\" , \"Quantity\" : \"80\" , \"Amount\" : \"4800\"} ,\n",
    "          1015 : {\"Product Name\" : \"Nestle coffee\",\"Expiry date\" : \"30th Nov 2021\" , \"Price\" : \"10\" , \"Quantity\" : \"50\" , \"Amount\" : \"500\"} ,\n",
    "          1016 : {\"Product Name\" : \"Bru coffee\" ,  \"Expiry date\" : \"25th Oct 2021\" , \"Price\" : \"10\" , \"Quantity\" : \"50\" , \"Amount\" : \"500\"} ,\n",
    "          1017 : {\"Product Name\" : \"GS Tea\" ,    \"Expiry date\" : \"20th Jan 2021\" , \"Price\" : \"10\" , \"Quantity\" : \"30\" , \"Amount\" : \"300\"} ,\n",
    "          1018 : {\"Product Name\" : \"Strainer\" ,  \"Expiry date\" : \"-------------\" , \"Price\" : \"30\" , \"Quantity\" : \"40\" , \"Amount\" : \"1200\"} ,\n",
    "          1019 : {\"Product Name\" : \"Dairy milk\" ,\"Expiry date\" : \"13th Sept 2021\" , \"Price\" : \"40\" , \"Quantity\" : \"55\" , \"Amount\" : \"2200\"} ,\n",
    "          1020 : {\"Product Name\" : \"Perk\" ,     \"Expiry date\" : \"16th Oct 2021\" , \"Price\" : \"10\" , \"Quantity\" : \"52\" , \"Amount\" : \"520\"} ,\n",
    "          1021 : {\"Product Name\" : \"Munch\" ,    \"Expiry date\" : \"26th Oct 2021\" , \"Price\" : \"10\" , \"Quantity\" : \"68\" , \"Amount\" : \"680\"} ,\n",
    "          1022 : {\"Product Name\" : \"Kit-Kat\" ,  \"Expiry date\" : \"17th Oct 2021\" , \"Price\" : \"20\" , \"Quantity\" : \"35\" , \"Amount\" : \"700\"} ,\n",
    "          1023 : {\"Product Name\" : \"Coconut oil\" ,\"Expiry date\" : \"10th Dec 2021\" , \"Price\" : \"25\" , \"Quantity\" : \"50\" , \"Amount\" : \"1250\"} ,\n",
    "          1024 : {\"Product Name\" : \"Sunflower Oil\" , \"Expiry date\" : \"12th Oct 2021\" , \"Price\" : \"180\" , \"Quantity\" : \"20\" , \"Amount\" : \"3600\"} ,\n",
    "          1025 : {\"Product Name\" : \"Rice Bran oil\" , \"Expiry date\" : \"15th Oct 2021\" , \"Price\" : \"140\" , \"Quantity\" : \"25\" , \"Amount\" : \"3500\"} ,\n",
    "          1026 : {\"Product Name\" : \"Amul Butter\" , \"Expiry date\" : \"17th Sept 2021\" , \"Price\" : \"50\" , \"Quantity\" : \"58\" , \"Amount\" : \"2900\"} ,\n",
    "          1027 : {\"Product Name\" : \"Amul cheese\" , \"Expiry date\" : \"17th Sept 2021\" , \"Price\" : \"15\" , \"Quantity\" : \"39\" , \"Amount\" : \"585\"} ,\n",
    "          1028 : {\"Product Name\" : \"Frozen corn\" , \"Expiry date\" : \"25th Oct 2021\" , \"Price\" : \"100\" , \"Quantity\" : \"30\" , \"Amount\" : \"3000\"} ,\n",
    "          1029 : {\"Product Name\" : \"Frozen peas\" , \"Expiry date\" : \"25th Oct 2021\" , \"Price\" : \"80\" , \"Quantity\" : \"40\" , \"Amount\" : \"3200\"} ,\n",
    "          1030 : {\"Product Name\" : \"Coca-Cola\" , \"Expiry date\" : \"28th Sept 2021\" , \"Price\" : \"20\" , \"Quantity\" : \"55\" , \"Amount\" : \"1100\"} ,\n",
    "          1031 : {\"Product Name\" : \"Thumps-up\" , \"Expiry date\" : \"28th Sept 2021\" , \"Price\" : \"30\" , \"Quantity\" : \"36\" , \"Amount\" : \"1080\"} }"
   ]
  },
  {
   "cell_type": "code",
   "execution_count": 2,
   "id": "ebc36bea",
   "metadata": {},
   "outputs": [],
   "source": [
    "import json"
   ]
  },
  {
   "cell_type": "code",
   "execution_count": 3,
   "id": "ca0e9313",
   "metadata": {},
   "outputs": [],
   "source": [
    "js = json.dumps(record)"
   ]
  },
  {
   "cell_type": "code",
   "execution_count": 4,
   "id": "6dcd1c9f",
   "metadata": {},
   "outputs": [],
   "source": [
    "fd = open(\"Record.json\" , \"w\")\n",
    "fd.write(js)\n",
    "fd.close()"
   ]
  },
  {
   "cell_type": "code",
   "execution_count": null,
   "id": "37e6309d",
   "metadata": {},
   "outputs": [],
   "source": []
  }
 ],
 "metadata": {
  "kernelspec": {
   "display_name": "Python 3",
   "language": "python",
   "name": "python3"
  },
  "language_info": {
   "codemirror_mode": {
    "name": "ipython",
    "version": 3
   },
   "file_extension": ".py",
   "mimetype": "text/x-python",
   "name": "python",
   "nbconvert_exporter": "python",
   "pygments_lexer": "ipython3",
   "version": "3.8.8"
  }
 },
 "nbformat": 4,
 "nbformat_minor": 5
}
