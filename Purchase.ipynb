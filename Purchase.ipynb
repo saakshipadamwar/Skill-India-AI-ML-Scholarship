{
 "cells": [
  {
   "cell_type": "code",
   "execution_count": 11,
   "id": "5fe160d4",
   "metadata": {},
   "outputs": [],
   "source": [
    "import json"
   ]
  },
  {
   "cell_type": "code",
   "execution_count": 12,
   "id": "39fc201d",
   "metadata": {},
   "outputs": [],
   "source": [
    "fd = open(\"Record.json\" , \"r\")\n",
    "txt = fd.read()\n",
    "fd.close()"
   ]
  },
  {
   "cell_type": "code",
   "execution_count": 13,
   "id": "66aa03ec",
   "metadata": {},
   "outputs": [],
   "source": [
    "dis_record = json.loads(txt)"
   ]
  },
  {
   "cell_type": "code",
   "execution_count": 14,
   "id": "fe302557",
   "metadata": {},
   "outputs": [],
   "source": [
    "from datetime import datetime"
   ]
  },
  {
   "cell_type": "code",
   "execution_count": 16,
   "id": "57842cd3",
   "metadata": {},
   "outputs": [],
   "source": [
    "trans_id = 1"
   ]
  },
  {
   "cell_type": "code",
   "execution_count": 17,
   "id": "a433c288",
   "metadata": {},
   "outputs": [],
   "source": [
    "new_trans = {}"
   ]
  },
  {
   "cell_type": "code",
   "execution_count": 18,
   "id": "10fefde2",
   "metadata": {},
   "outputs": [
    {
     "name": "stdout",
     "output_type": "stream",
     "text": [
      "-------WELCOME TO OUR STORE!-------\n",
      "\n",
      "***********************************\n",
      "\n",
      "Transaction Id =  1 \n",
      "\n",
      "***********************************\n",
      "\n",
      "2021-09-03 13:23:29.176749 \n",
      "\n",
      "***********************************\n",
      "\n",
      "Please enter the number of items you want to purchase: 1\n",
      "You Bought: \n",
      "Enter Product id for item 1: 1030\n",
      "Enter the number of Coca-Cola you want to buy: 2\n",
      "Product Name: Coca-Cola Price:  20 Amount:  40\n",
      "\n",
      "***********************************\n",
      "\n",
      "Billing Price:  40 \n",
      "\n",
      "***********************************\n",
      "\n",
      "-------Thank you for shopping with us-------\n",
      "\n",
      "-------Please Visit Again-------\n",
      "\n",
      "***********************************\n"
     ]
    }
   ],
   "source": [
    "    \n",
    "print(\"-------WELCOME TO OUR STORE!-------\\n\")\n",
    "print(\"***********************************\")\n",
    "print(\"\\nTransaction Id = \" , trans_id , \"\\n\")\n",
    "print(\"***********************************\\n\")\n",
    "dt = datetime.now()\n",
    "print(dt , \"\\n\")\n",
    "print(\"***********************************\\n\")\n",
    "u_items = int(input(\"Please enter the number of items you want to purchase: \"))\n",
    "\n",
    "billing_price = 0\n",
    "\n",
    "print(\"You Bought: \")\n",
    "\n",
    "new_trans[trans_id] = {}\n",
    "\n",
    "for i in range(u_items):\n",
    "\n",
    "    u_pro_id = input(f\"Enter Product id for item {i+1}: \")\n",
    "    \n",
    "\n",
    "    if u_pro_id in dis_record.keys():\n",
    "        u_quan = int(input(\"Enter the number of\" + \" \"+ dis_record[u_pro_id][\"Product Name\"] + \" \" + \"you want to buy: \"))\n",
    "        if(u_quan > int(dis_record[u_pro_id][\"Quantity\"])):\n",
    "            print(\"Sorry! We have only \" + dis_record[u_pro_id][\"Quantity\"] + \" availabe.\")\n",
    "            print(\"Product Name\" , dis_record[u_pro_id][\"Product Name\"] , \"Price \" , dis_record[u_pro_id][\"Price\"] , \"Amount: \" , int(dis_record[u_pro_id][\"Price\"]) * int(dis_record[u_pro_id][\"Quantity\"]))\n",
    "            new_trans[trans_id][u_pro_id] = {}\n",
    "            new_trans[trans_id][u_pro_id][\"Date-Time\"] = str(dt)\n",
    "            new_trans[trans_id][u_pro_id][\"Product Name\"] = dis_record[u_pro_id][\"Product Name\"]\n",
    "            new_trans[trans_id][u_pro_id][\"Quantity\"] = str(u_quan)\n",
    "            new_trans[trans_id][u_pro_id][\"Price\"] =  dis_record[u_pro_id][\"Price\"]\n",
    "            new_trans[trans_id][u_pro_id][\"Amount\"] = str(int(dis_record[u_pro_id][\"Price\"]) * int(dis_record[u_pro_id][\"Quantity\"]))\n",
    "            dis_record[u_pro_id][\"Quantity\"] = str(int(dis_record[u_pro_id][\"Quantity\"]) - int(dis_record[u_pro_id][\"Quantity\"]))\n",
    "            dis_record[u_pro_id][\"Amount\"] = str(int(dis_record[u_pro_id][\"Amount\"]) - int(dis_record[u_pro_id][\"Price\"]) * int(dis_record[u_pro_id][\"Quantity\"]))\n",
    "\n",
    "\n",
    "\n",
    "\n",
    "        else:\n",
    "            print(\"Product Name:\" , dis_record[u_pro_id][\"Product Name\"] , \"Price: \" , dis_record[u_pro_id][\"Price\"] , \"Amount: \" , int(dis_record[u_pro_id][\"Price\"]) * u_quan)\n",
    "            new_trans[trans_id][u_pro_id] = {}\n",
    "            new_trans[trans_id][u_pro_id][\"Date-Time\"] = str(dt)\n",
    "            new_trans[trans_id][u_pro_id][\"Product Name\"] = dis_record[u_pro_id][\"Product Name\"]\n",
    "            new_trans[trans_id][u_pro_id][\"Quantity\"] = str(u_quan)\n",
    "            new_trans[trans_id][u_pro_id][\"Price\"] =  dis_record[u_pro_id][\"Price\"]\n",
    "            new_trans[trans_id][u_pro_id][\"Amount\"] = str(int(dis_record[u_pro_id][\"Price\"]) * u_quan)\n",
    "            dis_record[u_pro_id][\"Quantity\"] = str(int(dis_record[u_pro_id][\"Quantity\"]) - u_quan)\n",
    "            dis_record[u_pro_id][\"Amount\"] = str(int(dis_record[u_pro_id][\"Amount\"]) - int(dis_record[u_pro_id][\"Price\"]) * u_quan)\n",
    "\n",
    "\n",
    "    else:\n",
    "        print(\"Item Not Available!\")\n",
    "        continue\n",
    "\n",
    "\n",
    "    billing_price = billing_price + int(dis_record[u_pro_id][\"Price\"]) * u_quan\n",
    "\n",
    "    print()\n",
    "print(\"***********************************\")\n",
    "print(\"\\nBilling Price: \" , billing_price, \"\\n\")\n",
    "print(\"***********************************\\n\")\n",
    "new_trans[trans_id][\"Billing Price\"] = str(billing_price)\n",
    "print(\"-------Thank you for shopping with us-------\\n\")\n",
    "print(\"-------Please Visit Again-------\\n\")\n",
    "print(\"***********************************\")\n",
    "\n",
    "\n",
    "\n",
    "transaction = json.dumps(new_trans)\n",
    "fsales = open(\"Sales.json\" , \"w\")\n",
    "fsales.write(transaction)\n",
    "fsales.close()\n",
    "\n",
    "new_record = json.dumps(dis_record)\n",
    "frecords = open(\"Record.json\" , \"w\")\n",
    "frecords.write(new_record)\n",
    "frecords.close()\n",
    "\n",
    "\n",
    "trans_id += 1\n",
    "\n"
   ]
  },
  {
   "cell_type": "code",
   "execution_count": null,
   "id": "cf97e3bd",
   "metadata": {},
   "outputs": [],
   "source": []
  }
 ],
 "metadata": {
  "kernelspec": {
   "display_name": "Python 3",
   "language": "python",
   "name": "python3"
  },
  "language_info": {
   "codemirror_mode": {
    "name": "ipython",
    "version": 3
   },
   "file_extension": ".py",
   "mimetype": "text/x-python",
   "name": "python",
   "nbconvert_exporter": "python",
   "pygments_lexer": "ipython3",
   "version": "3.8.8"
  }
 },
 "nbformat": 4,
 "nbformat_minor": 5
}
