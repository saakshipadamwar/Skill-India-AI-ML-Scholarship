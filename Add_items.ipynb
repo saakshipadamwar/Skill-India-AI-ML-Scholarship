{
 "cells": [
  {
   "cell_type": "code",
   "execution_count": 1,
   "id": "3abb9429",
   "metadata": {},
   "outputs": [],
   "source": [
    "admin_password = \"admin123456\""
   ]
  },
  {
   "cell_type": "code",
   "execution_count": 2,
   "id": "7c748393",
   "metadata": {},
   "outputs": [],
   "source": [
    "import json"
   ]
  },
  {
   "cell_type": "code",
   "execution_count": 3,
   "id": "3210b0eb",
   "metadata": {},
   "outputs": [],
   "source": [
    "fd = open(\"Record.json\" , \"r\")\n",
    "txt = fd.read()\n",
    "fd.close()"
   ]
  },
  {
   "cell_type": "code",
   "execution_count": 4,
   "id": "db24d1fc",
   "metadata": {},
   "outputs": [],
   "source": [
    "dis_record = json.loads(txt)"
   ]
  },
  {
   "cell_type": "code",
   "execution_count": 5,
   "id": "6b503977",
   "metadata": {},
   "outputs": [
    {
     "name": "stdout",
     "output_type": "stream",
     "text": [
      "If you are an admin please enter your password: \n",
      "Enter your password: admin123456\n",
      "-------WELCOME Mr. ADMIN-------\n",
      "Do you want to do any changes to our inventory (Y/N)? n\n",
      "Thank you! Successful Exit\n"
     ]
    }
   ],
   "source": [
    "print(\"If you are an admin please enter your password: \")\n",
    "password = input(\"Enter your password: \")\n",
    "if(password == admin_password):\n",
    "    print(\"-------WELCOME Mr. ADMIN-------\")\n",
    "    changes = input(\"Do you want to do any changes to our inventory (Y/N)? \")\n",
    "    if (changes == \"Y\" or changes == \"y\"):\n",
    "        new_or_update = input(\"Do you want to add a new product or do you want to update old record (new/update)? \")\n",
    "        if(new_or_update == \"new\"):\n",
    "            ch_items = int(input(\"How many items do you want to add in the inventory? \"))\n",
    "            for i in range(ch_items):\n",
    "                a_pro_id = input(\"Enter the Product id for new item: \")\n",
    "                if a_pro_id not in dis_record.keys():\n",
    "                    dis_record[a_pro_id] = {}\n",
    "                    a_pro_name = input(\"Enter the Product name for new item: \")\n",
    "                    a_pro_exp = input(\"Enter the Product Exp. date for new item: \")\n",
    "                    a_pro_price = input(\"Enter the Product Price for new item: \")\n",
    "                    a_pro_quan = input(\"Enter the Product Quantity for new item: \")\n",
    "                    a_pro_amt = input(\"Enter the Product Total amount for new item: \")\n",
    "                    dis_record[a_pro_id][\"Product Name\"] = a_pro_name\n",
    "                    dis_record[a_pro_id][\"Expiry date\"] = a_pro_exp\n",
    "                    dis_record[a_pro_id][\"Price\"] = a_pro_price\n",
    "                    dis_record[a_pro_id][\"Quantity\"] = a_pro_quan\n",
    "                    dis_record[a_pro_id][\"Amount\"] = a_pro_amt\n",
    "                    print(dis_record[a_pro_id][\"Product Name\"] + \" added successfully!\")\n",
    "                else:\n",
    "                    print(\"Item is already present in the inventory!\")\n",
    "                    continue\n",
    "            ad_new_record = json.dumps(dis_record)\n",
    "            ad_frecords = open(\"Record.json\" , \"w\")\n",
    "            ad_frecords.write(new_record)\n",
    "            ad_frecords.close()\n",
    "        elif(new_or_update == \"update\"):\n",
    "            ch_items = int(input(\"How many updations do you want to make in the inventory? \"))\n",
    "            for i in range(ch_items):\n",
    "                a_pro_id = input(\"Enter the Product id of the item: \")\n",
    "                if a_pro_id in dis_record.keys():\n",
    "                    a_pro_name = input(\"Enter the updated Product name: \")\n",
    "                    a_pro_exp = input(\"Enter the updated Product Exp.date : \")\n",
    "                    a_pro_price = input(\"Enter the updated Product Price: \")\n",
    "                    a_pro_quan = input(\"Enter the updated Product Quantity: \")\n",
    "                    a_pro_amt = input(\"Enter the updated Product Total: \")\n",
    "                    dis_record[a_pro_id][\"Product Name\"] = a_pro_name\n",
    "                    dis_record[a_pro_id][\"Expiry date\"] = a_pro_exp\n",
    "                    dis_record[a_pro_id][\"Price\"] = a_pro_price\n",
    "                    dis_record[a_pro_id][\"Quantity\"] = a_pro_quan\n",
    "                    dis_record[a_pro_id][\"Amount\"] = a_pro_amt\n",
    "                    print(dis_record[a_pro_id][\"Product Name\"] + \" updated successfully!\")\n",
    "                else:\n",
    "                    print(\"Can't update because Key not found!\")\n",
    "            ad_new_record = json.dumps(dis_record)\n",
    "            ad_frecords = open(\"Record.json\" , \"w\")\n",
    "            ad_frecords.write(new_record)\n",
    "            ad_frecords.close()\n",
    "        else:\n",
    "            print(\"Invalid Input! \")\n",
    "    elif(changes == \"N\" or changes == \"n\"):\n",
    "        print(\"Thank you! Successful Exit\")\n",
    "        \n",
    "    else:\n",
    "        print(\"Invalid Input!\")\n",
    "\n",
    "else:\n",
    "    print(\"Incorrect password! Please Try again!\")\n",
    "\n"
   ]
  },
  {
   "cell_type": "code",
   "execution_count": null,
   "id": "735da729",
   "metadata": {},
   "outputs": [],
   "source": []
  }
 ],
 "metadata": {
  "kernelspec": {
   "display_name": "Python 3",
   "language": "python",
   "name": "python3"
  },
  "language_info": {
   "codemirror_mode": {
    "name": "ipython",
    "version": 3
   },
   "file_extension": ".py",
   "mimetype": "text/x-python",
   "name": "python",
   "nbconvert_exporter": "python",
   "pygments_lexer": "ipython3",
   "version": "3.8.8"
  }
 },
 "nbformat": 4,
 "nbformat_minor": 5
}
